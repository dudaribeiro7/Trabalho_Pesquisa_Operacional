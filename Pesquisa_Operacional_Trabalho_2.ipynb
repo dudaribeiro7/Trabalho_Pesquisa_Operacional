{
  "nbformat": 4,
  "nbformat_minor": 0,
  "metadata": {
    "colab": {
      "provenance": [],
      "include_colab_link": true
    },
    "kernelspec": {
      "name": "python3",
      "display_name": "Python 3"
    },
    "language_info": {
      "name": "python"
    }
  },
  "cells": [
    {
      "cell_type": "markdown",
      "metadata": {
        "id": "view-in-github",
        "colab_type": "text"
      },
      "source": [
        "<a href=\"https://colab.research.google.com/github/dudaribeiro7/Trabalho_Pesquisa_Operacional/blob/main/Pesquisa_Operacional_Trabalho_2.ipynb\" target=\"_parent\"><img src=\"https://colab.research.google.com/assets/colab-badge.svg\" alt=\"Open In Colab\"/></a>"
      ]
    },
    {
      "cell_type": "markdown",
      "source": [
        "# **Leitura dos Dados**"
      ],
      "metadata": {
        "id": "_Vf7V6BraE5y"
      }
    },
    {
      "cell_type": "markdown",
      "source": [
        "## **Acesso à Planilha 'Pesquisa Operacional - Trabalho 2' no Google Drive**"
      ],
      "metadata": {
        "id": "5teubOAuQ75u"
      }
    },
    {
      "cell_type": "code",
      "source": [
        "!pip install gspread"
      ],
      "metadata": {
        "colab": {
          "base_uri": "https://localhost:8080/"
        },
        "id": "DYNNh9G8Io1M",
        "outputId": "e4794dc6-e048-47c5-e91c-a477b9583eeb"
      },
      "execution_count": null,
      "outputs": [
        {
          "output_type": "stream",
          "name": "stdout",
          "text": [
            "Looking in indexes: https://pypi.org/simple, https://us-python.pkg.dev/colab-wheels/public/simple/\n",
            "Requirement already satisfied: gspread in /usr/local/lib/python3.10/dist-packages (3.4.2)\n",
            "Requirement already satisfied: google-auth in /usr/local/lib/python3.10/dist-packages (from gspread) (2.17.3)\n",
            "Requirement already satisfied: requests>=2.2.1 in /usr/local/lib/python3.10/dist-packages (from gspread) (2.27.1)\n",
            "Requirement already satisfied: certifi>=2017.4.17 in /usr/local/lib/python3.10/dist-packages (from requests>=2.2.1->gspread) (2022.12.7)\n",
            "Requirement already satisfied: idna<4,>=2.5 in /usr/local/lib/python3.10/dist-packages (from requests>=2.2.1->gspread) (3.4)\n",
            "Requirement already satisfied: charset-normalizer~=2.0.0 in /usr/local/lib/python3.10/dist-packages (from requests>=2.2.1->gspread) (2.0.12)\n",
            "Requirement already satisfied: urllib3<1.27,>=1.21.1 in /usr/local/lib/python3.10/dist-packages (from requests>=2.2.1->gspread) (1.26.15)\n",
            "Requirement already satisfied: cachetools<6.0,>=2.0.0 in /usr/local/lib/python3.10/dist-packages (from google-auth->gspread) (5.3.0)\n",
            "Requirement already satisfied: rsa<5,>=3.1.4 in /usr/local/lib/python3.10/dist-packages (from google-auth->gspread) (4.9)\n",
            "Requirement already satisfied: six>=1.9.0 in /usr/local/lib/python3.10/dist-packages (from google-auth->gspread) (1.16.0)\n",
            "Requirement already satisfied: pyasn1-modules>=0.2.1 in /usr/local/lib/python3.10/dist-packages (from google-auth->gspread) (0.3.0)\n",
            "Requirement already satisfied: pyasn1<0.6.0,>=0.4.6 in /usr/local/lib/python3.10/dist-packages (from pyasn1-modules>=0.2.1->google-auth->gspread) (0.5.0)\n"
          ]
        }
      ]
    },
    {
      "cell_type": "code",
      "source": [
        "from google.colab import auth\n",
        "auth.authenticate_user()\n",
        "\n",
        "import gspread\n",
        "from google.auth import default\n",
        "creds, _ = default()\n",
        "\n",
        "gc = gspread.authorize(creds)"
      ],
      "metadata": {
        "id": "aN7UnLXAKXzN"
      },
      "execution_count": null,
      "outputs": []
    },
    {
      "cell_type": "code",
      "source": [
        "# Acesso à planilha no google sheets\n",
        "planilha = gc.open('Pesquisa Operacional - Trabalho 2')"
      ],
      "metadata": {
        "id": "hBSMFVhoIpdz"
      },
      "execution_count": null,
      "outputs": []
    },
    {
      "cell_type": "code",
      "source": [
        "print('Selecione o curso desejado: ')\n",
        "print('1. Engenharia Computacional')\n",
        "print('2. Direito')\n",
        "print('3. Serviço Social')\n",
        "\n",
        "curso = int(input('Curso: '))"
      ],
      "metadata": {
        "colab": {
          "base_uri": "https://localhost:8080/"
        },
        "id": "TNqRDJ7QhdeZ",
        "outputId": "95cd6864-1b2a-4019-b321-1e27f5a165f8"
      },
      "execution_count": null,
      "outputs": [
        {
          "name": "stdout",
          "output_type": "stream",
          "text": [
            "Selecione o curso desejado: \n",
            "1. Engenharia Computacional\n",
            "2. Direito\n",
            "3. Serviço Social\n",
            "Curso: 1\n"
          ]
        }
      ]
    },
    {
      "cell_type": "code",
      "source": [
        "if curso == 1:\n",
        "  # Acesso à página Disciplinas EngComp: Pré-Requisitos\n",
        "  preReq = planilha.get_worksheet(0)\n",
        "\n",
        "  # Acesso à página Disciplinas EngComp\n",
        "  infoDisc = planilha.get_worksheet(1)\n",
        "\n",
        "  # Acesso à página Períodos EngComp\n",
        "  infoPeriod = planilha.get_worksheet(2)\n",
        "else:\n",
        "  if curso == 2:\n",
        "    # Acesso à página Disciplinas Direito: Pré-Requisitos\n",
        "    preReq = planilha.get_worksheet(3)\n",
        "\n",
        "    # Acesso à página Disciplinas Direito\n",
        "    infoDisc = planilha.get_worksheet(4)\n",
        "\n",
        "    # Acesso à página Períodos Direito\n",
        "    infoPeriod = planilha.get_worksheet(5)\n",
        "  else:\n",
        "    if curso == 3:\n",
        "      # Acesso à página Disciplinas SeSo: Pré-Requisitos\n",
        "      preReq = planilha.get_worksheet(6)\n",
        "\n",
        "      # Acesso à página Disciplinas SeSo\n",
        "      infoDisc = planilha.get_worksheet(7)\n",
        "\n",
        "      # Acesso à página Períodos SeSo\n",
        "      infoPeriod = planilha.get_worksheet(8)\n",
        "    else:\n",
        "      print('Opção Inválida')"
      ],
      "metadata": {
        "id": "mZEKA2ieiM7e"
      },
      "execution_count": null,
      "outputs": []
    },
    {
      "cell_type": "code",
      "source": [
        "# # Acesso à página Disciplinas EngComp: Pré-Requisitos\n",
        "# preReq = planilhaEngComp.get_worksheet(0)"
      ],
      "metadata": {
        "id": "148XClYJPwMq"
      },
      "execution_count": null,
      "outputs": []
    },
    {
      "cell_type": "code",
      "source": [
        "# # Acesso à página Disciplinas EngComp\n",
        "# infoDisc = planilhaEngComp.get_worksheet(1)"
      ],
      "metadata": {
        "id": "lRUoadiKPrFj"
      },
      "execution_count": null,
      "outputs": []
    },
    {
      "cell_type": "code",
      "source": [
        "# # Acesso à página Períodos EngComp\n",
        "# infoPeriod = planilhaEngComp.get_worksheet(2)"
      ],
      "metadata": {
        "id": "lzOzl23JPq4z"
      },
      "execution_count": null,
      "outputs": []
    },
    {
      "cell_type": "markdown",
      "source": [
        "## **Conversão dos Dados da Planilha para DataFrames da Pandas**"
      ],
      "metadata": {
        "id": "L6zTS9zkROB1"
      }
    },
    {
      "cell_type": "code",
      "source": [
        "import pandas as pd"
      ],
      "metadata": {
        "id": "G-aif0LsGoqs"
      },
      "execution_count": null,
      "outputs": []
    },
    {
      "cell_type": "code",
      "source": [
        "# Conversão da página Disciplinas EngComp: Pré-Requisitos para um DataFrame\n",
        "df_preReq = pd.DataFrame(preReq.get_all_records())\n",
        "df_preReq = df_preReq.set_index('Disciplinas')\n",
        "# df_preReq.index.names = [None]\n",
        "# df_preReq"
      ],
      "metadata": {
        "id": "FVAMqrS0Lww9"
      },
      "execution_count": null,
      "outputs": []
    },
    {
      "cell_type": "code",
      "source": [
        "# Conversão da página Disciplinas EngComp para um DataFrame\n",
        "# df_infoDisc = pd.DataFrame(infoDisc.get_all_records())\n",
        "df_infoDisc = pd.DataFrame(infoDisc.get_all_records())\n",
        "df_infoDisc = df_infoDisc.set_index('Dados')\n",
        "# df_infoDisc.index.names = [None]\n",
        "# df_infoDisc"
      ],
      "metadata": {
        "id": "VjXr9zXQQvsj"
      },
      "execution_count": null,
      "outputs": []
    },
    {
      "cell_type": "code",
      "source": [
        "# Conversão da página Períodos EngComp para um DataFrame\n",
        "# df_infoPeriod = pd.DataFrame(infoPeriod.get_all_records())\n",
        "df_infoPeriod = pd.DataFrame(infoPeriod.get_all_records())\n",
        "df_infoPeriod = df_infoPeriod.set_index('Período')\n",
        "# df_infoPeriod"
      ],
      "metadata": {
        "id": "Ry3COdyAQ2jC"
      },
      "execution_count": null,
      "outputs": []
    },
    {
      "cell_type": "markdown",
      "source": [
        "# **Modelo Matemático**"
      ],
      "metadata": {
        "id": "JmG9yhypXxTC"
      }
    },
    {
      "cell_type": "code",
      "source": [
        "%pip install gurobipy"
      ],
      "metadata": {
        "id": "n-jSb45iX2aa",
        "colab": {
          "base_uri": "https://localhost:8080/"
        },
        "outputId": "fb003f15-1ee8-4001-fca2-041c9006a6d7"
      },
      "execution_count": null,
      "outputs": [
        {
          "output_type": "stream",
          "name": "stdout",
          "text": [
            "Looking in indexes: https://pypi.org/simple, https://us-python.pkg.dev/colab-wheels/public/simple/\n",
            "Collecting gurobipy\n",
            "  Downloading gurobipy-10.0.1-cp310-cp310-manylinux2014_x86_64.whl (12.7 MB)\n",
            "\u001b[2K     \u001b[90m━━━━━━━━━━━━━━━━━━━━━━━━━━━━━━━━━━━━━━━━\u001b[0m \u001b[32m12.7/12.7 MB\u001b[0m \u001b[31m29.1 MB/s\u001b[0m eta \u001b[36m0:00:00\u001b[0m\n",
            "\u001b[?25hInstalling collected packages: gurobipy\n",
            "Successfully installed gurobipy-10.0.1\n"
          ]
        }
      ]
    },
    {
      "cell_type": "code",
      "source": [
        "import gurobipy as gp\n",
        "from gurobipy import GRB\n",
        "from numpy import size"
      ],
      "metadata": {
        "id": "MKt5wWcbYVnJ"
      },
      "execution_count": null,
      "outputs": []
    },
    {
      "cell_type": "code",
      "source": [
        "# Licença Acadêmica\n",
        "en = gp.Env(empty= True)\n",
        "en.setParam('WLSACCESSID' , '819a2f40-7f47-432d-bfdc-84a4bc9c39d6' )\n",
        "en.setParam('WLSSECRET' , '3b0a333f-adcf-4d9a-a8a3-061a18f658ef' )\n",
        "en.setParam('LICENSEID' , 866515)\n",
        "en.start()\n",
        "\n",
        "# Cria o modelo dentro do ambiente Gurobi\n",
        "m = gp.Model('PO', env=en)"
      ],
      "metadata": {
        "id": "kCcHYiVdYXOW",
        "colab": {
          "base_uri": "https://localhost:8080/"
        },
        "outputId": "b6b54484-46b1-4d7a-fef0-d4cfba6c9b48"
      },
      "execution_count": null,
      "outputs": [
        {
          "output_type": "stream",
          "name": "stdout",
          "text": [
            "Set parameter WLSAccessID\n",
            "Set parameter WLSSecret\n",
            "Set parameter LicenseID to value 866515\n",
            "Academic license - for non-commercial use only - registered to thais.soares@estudante.ufjf.br\n"
          ]
        }
      ]
    },
    {
      "cell_type": "markdown",
      "source": [
        "## **Variáveis de Decisão**"
      ],
      "metadata": {
        "id": "LDhNMIGxZhfY"
      }
    },
    {
      "cell_type": "markdown",
      "source": [
        "$x_{i, j}$\n",
        "\n",
        "onde,\n",
        "\n",
        "* $i$ é a disciplina\n",
        "* $j$ é o período"
      ],
      "metadata": {
        "id": "cj1P6V-cnZFz"
      }
    },
    {
      "cell_type": "code",
      "source": [
        "var = []\n",
        "varAux = []\n",
        "\n",
        "disc = []\n",
        "period = []\n",
        "period_disc = {}\n",
        "\n",
        "jInicioEncontrado = False\n",
        "jInicio = 0\n",
        "\n",
        "for j in df_infoPeriod.index:\n",
        "  if df_infoPeriod['Já cursado'][j] == 0:\n",
        "    period.append(j)\n",
        "    if jInicioEncontrado == False:\n",
        "      jInicioEncontrado = True\n",
        "      jInicio = j\n",
        "\n",
        "for i in df_infoDisc:\n",
        "  if i != '' and df_infoDisc[i]['Já cursada'] == 0:\n",
        "    for j in period:\n",
        "      adiciona = False\n",
        "      if df_infoDisc[i]['Período em que é ofertada'] == 0:\n",
        "        adiciona = True\n",
        "      else:\n",
        "        if df_infoDisc[i]['Período em que é ofertada'] == 1 and j % 2 != 0:\n",
        "          adiciona = True\n",
        "        else:\n",
        "          if df_infoDisc[i]['Período em que é ofertada'] == 2 and j % 2 == 0:\n",
        "            adiciona = True\n",
        "      varAux.append((i, j))\n",
        "      if adiciona:\n",
        "        var.append((i, j))\n",
        "        if period_disc.get(j, None) == None:\n",
        "          period_disc[j] = [i]\n",
        "        else:\n",
        "          period_disc.get(j, None).append(i)\n",
        "    disc.append(i)\n",
        "disc\n",
        "# var"
      ],
      "metadata": {
        "id": "VVaOYRKvZoei",
        "colab": {
          "base_uri": "https://localhost:8080/"
        },
        "outputId": "42370514-ce06-4237-8094-145eee9b9db2"
      },
      "execution_count": null,
      "outputs": [
        {
          "output_type": "execute_result",
          "data": {
            "text/plain": [
              "['MAC005',\n",
              " 'MAC008',\n",
              " 'MAC023',\n",
              " 'DCC001',\n",
              " 'DCC062',\n",
              " 'DCC042',\n",
              " 'DCC063',\n",
              " 'MAC034',\n",
              " 'MAC534',\n",
              " 'MAC035',\n",
              " 'DCC125',\n",
              " 'DCC198',\n",
              " 'MAC021',\n",
              " 'MAC033',\n",
              " 'Eletiva 3',\n",
              " 'Eletiva 4',\n",
              " 'Eletiva 5',\n",
              " 'Eletiva 6',\n",
              " 'Eletiva 7']"
            ]
          },
          "metadata": {},
          "execution_count": 16
        }
      ]
    },
    {
      "cell_type": "code",
      "source": [
        "v = m.addVars(var, vtype = GRB.BINARY, name = 'v')"
      ],
      "metadata": {
        "id": "KOQrEAHfOABj"
      },
      "execution_count": null,
      "outputs": []
    },
    {
      "cell_type": "markdown",
      "source": [
        "## **Variáveis Auxiliares**"
      ],
      "metadata": {
        "id": "PfjyXGTqHGh5"
      }
    },
    {
      "cell_type": "markdown",
      "source": [
        "$y_{i, j}$\n",
        "\n",
        "onde,\n",
        "\n",
        "* $i$ é uma disciplina que foi alocada antes do período $j$"
      ],
      "metadata": {
        "id": "GWaHUMilHLub"
      }
    },
    {
      "cell_type": "code",
      "source": [
        "y = m.addVars(varAux, vtype = GRB.BINARY, name = 'y')"
      ],
      "metadata": {
        "id": "4yUNyDdKWyGg"
      },
      "execution_count": null,
      "outputs": []
    },
    {
      "cell_type": "markdown",
      "source": [
        "## **Restrições**"
      ],
      "metadata": {
        "id": "7EizQLIcZkXK"
      }
    },
    {
      "cell_type": "markdown",
      "source": [
        "### **1º Restrição**"
      ],
      "metadata": {
        "id": "e5NhJG4boYmr"
      }
    },
    {
      "cell_type": "markdown",
      "source": [
        "$∀ i$, $∀ j$  $\\quad$  $x_{i, j} = (0, 1)$  "
      ],
      "metadata": {
        "id": "N_AGZm13o4Gd"
      }
    },
    {
      "cell_type": "markdown",
      "source": [
        "### **2º Restrição**"
      ],
      "metadata": {
        "id": "Lm12qtKfp-Kp"
      }
    },
    {
      "cell_type": "markdown",
      "source": [
        "\n",
        "\n",
        "$∀ i$ $\\quad$ $∑\\limits_{j} x_{i, j} <= 1$"
      ],
      "metadata": {
        "id": "fegy-JPwqFTH"
      }
    },
    {
      "cell_type": "code",
      "source": [
        "r2 = m.addConstrs((v.sum(i, '*') <= 1 for i in disc), name='r2')"
      ],
      "metadata": {
        "id": "veBY25mPqz5S"
      },
      "execution_count": null,
      "outputs": []
    },
    {
      "cell_type": "markdown",
      "source": [
        "### **3º Restrição**"
      ],
      "metadata": {
        "id": "WmjXldleqyJF"
      }
    },
    {
      "cell_type": "markdown",
      "source": [
        "$∀j$ $\\quad$ $∑\\limits_{i} k_i \\ \\cdot \\ x_{i, j} ≤ M_{j}$\n",
        "\n",
        "onde,\n",
        "\n",
        "* $k_i$ é a carga horária da disciplina $i$\n",
        "* $M_j$ é a carga horária máxima do período $j$"
      ],
      "metadata": {
        "id": "Febs4P5lq7Cx"
      }
    },
    {
      "cell_type": "code",
      "source": [
        "k = {}\n",
        "for var in v:\n",
        "  k[var] = df_infoDisc[var[0]]['Carga Horária']"
      ],
      "metadata": {
        "id": "46GQ3p0zs4cB"
      },
      "execution_count": null,
      "outputs": []
    },
    {
      "cell_type": "code",
      "source": [
        "r3 = m.addConstrs((gp.quicksum(v[(i, j)] * k[(i, j)] for i in period_disc.get(j, None)) <= df_infoPeriod['Carga Horária Máxima'][j] for j in period), name=\"r3\")"
      ],
      "metadata": {
        "id": "XghBMZB7tO5I"
      },
      "execution_count": null,
      "outputs": []
    },
    {
      "cell_type": "markdown",
      "source": [
        "### **4º Restrição**"
      ],
      "metadata": {
        "id": "ymGEfSLMsnKD"
      }
    },
    {
      "cell_type": "markdown",
      "source": [
        "$∀j$ $\\quad$ $∑\\limits_{i} t_i \\ \\cdot \\ x_{i, j} < N_{j}$\n",
        "\n",
        "onde,\n",
        "\n",
        "* $t_i$ é o grau de dificuldade da disciplina $i$\n",
        "* $N_j$ é o grau de dificuldade máximo do período $j$"
      ],
      "metadata": {
        "id": "eCoTPXFGsnBK"
      }
    },
    {
      "cell_type": "code",
      "source": [
        "t = {}\n",
        "for var in v:\n",
        "  t[var] = df_infoDisc[var[0]]['Grau de Dificuldade']"
      ],
      "metadata": {
        "id": "s67pwKfKtMc1"
      },
      "execution_count": null,
      "outputs": []
    },
    {
      "cell_type": "code",
      "source": [
        "r4 = m.addConstrs((gp.quicksum(v[(i, j)] * t[(i, j)] for i in period_disc.get(j, None)) <= df_infoPeriod['Dificuldade Máxima'][j] for j in period), name=\"r4\")"
      ],
      "metadata": {
        "id": "kN-OD-8Q6Rc6"
      },
      "execution_count": null,
      "outputs": []
    },
    {
      "cell_type": "markdown",
      "source": [
        "### **5º Restrição**\n",
        "\n"
      ],
      "metadata": {
        "id": "pdNSZgBNx34Y"
      }
    },
    {
      "cell_type": "markdown",
      "source": [
        "Dado Binário $P$:\n",
        "\n",
        "* $P_{k, i} = 1$, se $k$ é pré-requisito de $i$\n",
        "\n",
        "* $P_{k, i} = 0$, caso contrário"
      ],
      "metadata": {
        "id": "5wNpVtRo-opb"
      }
    },
    {
      "cell_type": "markdown",
      "source": [
        "$∀i, \\ ∀j, \\ ∀k \\ \\quad P_{k, i} \\cdot x_{i, j} ≤ y_{k, j}$\n",
        "\n",
        "$\\forall k, ∀j \\quad \\quad \\quad  ∑\\limits_{l < j} x_{k,l} = y_{k, j}$\n",
        "\n",
        "onde,\n",
        "\n",
        "* k é uma disciplina que é pré requisito de i"
      ],
      "metadata": {
        "id": "Oa79UPdhIbqE"
      }
    },
    {
      "cell_type": "code",
      "source": [
        "P = {}\n",
        "for d1 in disc:\n",
        "  for d2 in disc:\n",
        "    if d1 != d2:\n",
        "      # d1 é pré-requisito de d2\n",
        "      if df_preReq[d1][d2] == 1:\n",
        "          P[(d1, d2)] = 1\n",
        "      # d1 não é pré-requisito de d2\n",
        "      else:\n",
        "          P[(d1, d2)] = 0\n",
        "\n",
        "for key, value in P.items():\n",
        "  if value == 1:\n",
        "    print(key)"
      ],
      "metadata": {
        "id": "9ZnHY2RUEFj5",
        "colab": {
          "base_uri": "https://localhost:8080/"
        },
        "outputId": "33134edf-d7b3-444c-a696-34a43dd75312"
      },
      "execution_count": null,
      "outputs": [
        {
          "output_type": "stream",
          "name": "stdout",
          "text": [
            "('MAC008', 'MAC034')\n",
            "('MAC008', 'MAC534')\n",
            "('DCC062', 'DCC125')\n",
            "('MAC035', 'DCC198')\n",
            "('MAC021', 'MAC033')\n"
          ]
        }
      ]
    },
    {
      "cell_type": "code",
      "source": [
        "cont = 0\n",
        "for varAux in y:\n",
        "  for var in v:\n",
        "    if (varAux[0] != var[0] and varAux[1] == var[1] and P.get((varAux[0], var[0])) == 1):\n",
        "      m.addConstr(v[var] * P.get((varAux[0], var[0])) <= y[varAux], name='r5P1.' + str(cont))\n",
        "      cont += 1"
      ],
      "metadata": {
        "id": "nawBuMRuLZDs"
      },
      "execution_count": null,
      "outputs": []
    },
    {
      "cell_type": "code",
      "source": [
        "cont = 0\n",
        "for varAux in y:\n",
        "  for d in disc:\n",
        "    if (d != varAux[0] and P.get((varAux[0], d)) == 1):\n",
        "      inicio = jInicio\n",
        "      passo = 1\n",
        "      if df_infoDisc[varAux[0]]['Período em que é ofertada'] == 2:\n",
        "        if jInicio % 2 == 0:\n",
        "          inicio = jInicio\n",
        "        else:\n",
        "          inicio = jInicio + 1\n",
        "        passo = 2\n",
        "      else:\n",
        "        if df_infoDisc[varAux[0]]['Período em que é ofertada'] == 1:\n",
        "          if jInicio % 2 == 0:\n",
        "            inicio = jInicio + 1\n",
        "          else:\n",
        "            inicio = jInicio\n",
        "          passo = 2\n",
        "      # if  varAux[1] > inicio:\n",
        "      m.addConstr((gp.quicksum(v[(varAux[0], l)] for l in range(inicio, varAux[1], passo)) == y[varAux]), name='r5P2.' + str(cont))\n",
        "      cont += 1\n",
        "      break"
      ],
      "metadata": {
        "id": "aVBcNI7ReN83"
      },
      "execution_count": null,
      "outputs": []
    },
    {
      "cell_type": "markdown",
      "source": [
        "### **6º Restrição**"
      ],
      "metadata": {
        "id": "8wXnIFsiEEyr"
      }
    },
    {
      "cell_type": "markdown",
      "source": [
        "$∀i$, $∀j$  $\\quad$ $\\ x_{i,j} = \\ x_{k, j}$\n",
        "\n",
        "onde,\n",
        "\n",
        "* $k$ é uma disciplina que deve ser cursada de forma conjunta com $i$, ou seja, no mesmo período $j$"
      ],
      "metadata": {
        "id": "-iZJl-DKENgv"
      }
    },
    {
      "cell_type": "code",
      "source": [
        "disc_conj = {}\n",
        "for d1 in disc:\n",
        "  for d2 in disc:\n",
        "    if d1 != d2:\n",
        "      # d1 e d2 devem ser feitas em um mesmo período\n",
        "      if df_preReq[d1][d2] != 1 and df_preReq[d1][d2] != 0 and disc_conj.get((d2, d1), None) is None:\n",
        "          disc_conj[(d1, d2)] = df_preReq[d1][d2]\n",
        "\n",
        "disc_conj"
      ],
      "metadata": {
        "id": "KHcwzV1vFU28",
        "colab": {
          "base_uri": "https://localhost:8080/"
        },
        "outputId": "e7c6717d-7d77-489d-85a3-f17382bd838e"
      },
      "execution_count": null,
      "outputs": [
        {
          "output_type": "execute_result",
          "data": {
            "text/plain": [
              "{('MAC034', 'MAC534'): 4}"
            ]
          },
          "metadata": {},
          "execution_count": 27
        }
      ]
    },
    {
      "cell_type": "code",
      "source": [
        "cont = 0\n",
        "for var1 in v:\n",
        "  for var2 in v:\n",
        "    if disc_conj.get((var1[0], var2[0]), None) is not None and var1[1] == var2[1]:\n",
        "      m.addConstr(v[var1] == v[var2], name='r6.' + str(cont))\n",
        "      cont += 1"
      ],
      "metadata": {
        "id": "TtRom9Z44WUs"
      },
      "execution_count": null,
      "outputs": []
    },
    {
      "cell_type": "markdown",
      "source": [
        "## **Função Objetivo**"
      ],
      "metadata": {
        "id": "W66ox9mpZp6f"
      }
    },
    {
      "cell_type": "markdown",
      "source": [
        "$Max \\ ∑\\limits_{i, \\ j}  x_{i, j}$"
      ],
      "metadata": {
        "id": "5SIgMLeOYwaA"
      }
    },
    {
      "cell_type": "code",
      "source": [
        "m.setObjective(v.sum('*','*'), GRB.MAXIMIZE)"
      ],
      "metadata": {
        "id": "8u591FclZwo2"
      },
      "execution_count": null,
      "outputs": []
    },
    {
      "cell_type": "code",
      "source": [
        "# Escreve o modelo em um arquivo .lp\n",
        "m.write('PO - Trabalho 2.lp')"
      ],
      "metadata": {
        "id": "iT6gpP2cOotY",
        "colab": {
          "base_uri": "https://localhost:8080/"
        },
        "outputId": "fe205caf-e8be-478a-daad-37686fe7ff5d"
      },
      "execution_count": null,
      "outputs": [
        {
          "output_type": "stream",
          "name": "stdout",
          "text": [
            "Warning: variable name \"v[Eletiva 3,8]\" has a space\n",
            "Warning: constraint name \"r2[Eletiva 3]\" has a space\n",
            "Warning: to let Gurobi read it back, use rlp format\n"
          ]
        }
      ]
    },
    {
      "cell_type": "code",
      "source": [
        "# Otimiza o modelo\n",
        "m.optimize()"
      ],
      "metadata": {
        "id": "koW3ya_gWHEJ",
        "colab": {
          "base_uri": "https://localhost:8080/"
        },
        "outputId": "1bc30d87-bb22-409b-94ad-97785a19a004"
      },
      "execution_count": null,
      "outputs": [
        {
          "output_type": "stream",
          "name": "stdout",
          "text": [
            "Gurobi Optimizer version 10.0.1 build v10.0.1rc0 (linux64)\n",
            "\n",
            "CPU model: Intel(R) Xeon(R) CPU @ 2.20GHz, instruction set [SSE2|AVX|AVX2]\n",
            "Thread count: 1 physical cores, 2 logical processors, using up to 2 threads\n",
            "\n",
            "Academic license - for non-commercial use only - registered to thais.soares@estudante.ufjf.br\n",
            "Optimize a model with 143 rows, 450 columns and 1022 nonzeros\n",
            "Model fingerprint: 0xa2be96b9\n",
            "Variable types: 0 continuous, 450 integer (450 binary)\n",
            "Coefficient statistics:\n",
            "  Matrix range     [1e+00, 1e+02]\n",
            "  Objective range  [1e+00, 1e+00]\n",
            "  Bounds range     [1e+00, 1e+00]\n",
            "  RHS range        [1e+00, 3e+02]\n",
            "Found heuristic solution: objective 10.0000000\n",
            "Presolve removed 109 rows and 391 columns\n",
            "Presolve time: 0.00s\n",
            "Presolved: 34 rows, 59 columns, 198 nonzeros\n",
            "Variable types: 0 continuous, 59 integer (59 binary)\n",
            "Found heuristic solution: objective 17.0000000\n",
            "\n",
            "Root relaxation: objective 1.900000e+01, 19 iterations, 0.00 seconds (0.00 work units)\n",
            "\n",
            "    Nodes    |    Current Node    |     Objective Bounds      |     Work\n",
            " Expl Unexpl |  Obj  Depth IntInf | Incumbent    BestBd   Gap | It/Node Time\n",
            "\n",
            "*    0     0               0      19.0000000   19.00000  0.00%     -    0s\n",
            "\n",
            "Explored 1 nodes (19 simplex iterations) in 0.04 seconds (0.00 work units)\n",
            "Thread count was 2 (of 2 available processors)\n",
            "\n",
            "Solution count 3: 19 17 10 \n",
            "\n",
            "Optimal solution found (tolerance 1.00e-04)\n",
            "Best objective 1.900000000000e+01, best bound 1.900000000000e+01, gap 0.0000%\n"
          ]
        }
      ]
    },
    {
      "cell_type": "code",
      "source": [
        "qtdd_var_period = {}\n",
        "var_period = {}\n",
        "\n",
        "cont = 0\n",
        "\n",
        "# Imprime em qual período cada disciplina foi alocada\n",
        "for var in v:\n",
        "  if v[var].x > 1e-6:\n",
        "    cont += 1\n",
        "    if qtdd_var_period.get(var[1], None) is None:\n",
        "      qtdd_var_period[var[1]] = 1\n",
        "      var_period[var[1]] = [var[0]]\n",
        "    else:\n",
        "      qtdd_var_period[var[1]] += 1\n",
        "      var_period[var[1]].append(var[0])\n",
        "    print(v[var].varName, v[var].x)"
      ],
      "metadata": {
        "id": "O7f_S_21WH5i",
        "colab": {
          "base_uri": "https://localhost:8080/"
        },
        "outputId": "60f30eef-dd4b-4edd-add6-97cd5cd60ad3"
      },
      "execution_count": null,
      "outputs": [
        {
          "output_type": "stream",
          "name": "stdout",
          "text": [
            "v[MAC005,8] 1.0\n",
            "v[MAC008,9] 1.0\n",
            "v[MAC023,8] 1.0\n",
            "v[DCC001,9] 1.0\n",
            "v[DCC062,8] 1.0\n",
            "v[DCC042,9] 1.0\n",
            "v[DCC063,11] 1.0\n",
            "v[MAC034,10] 1.0\n",
            "v[MAC534,10] 1.0\n",
            "v[MAC035,8] 1.0\n",
            "v[DCC125,9] 1.0\n",
            "v[DCC198,9] 1.0\n",
            "v[MAC021,8] 1.0\n",
            "v[MAC033,11] 1.0\n",
            "v[Eletiva 3,11] 1.0\n",
            "v[Eletiva 4,10] 1.0\n",
            "v[Eletiva 5,10] 1.0\n",
            "v[Eletiva 6,10] 1.0\n",
            "v[Eletiva 7,10] 1.0\n"
          ]
        }
      ]
    },
    {
      "cell_type": "code",
      "source": [
        "if cont == size(disc):\n",
        "  print('Todas as disciplinas foram alocadas em algum período.')\n",
        "else:\n",
        "  print('Nem todas as disciplinas foram alocadas em algum período. Reveja os parâmetros de entrada.')"
      ],
      "metadata": {
        "colab": {
          "base_uri": "https://localhost:8080/"
        },
        "id": "x7uvkwfX8qFx",
        "outputId": "44b2d949-895e-4e33-90e7-630f8efacbb2"
      },
      "execution_count": null,
      "outputs": [
        {
          "output_type": "stream",
          "name": "stdout",
          "text": [
            "Todas as disciplinas foram alocadas em algum período.\n"
          ]
        }
      ]
    },
    {
      "cell_type": "code",
      "source": [
        "for var in y:\n",
        "  if y[var].x > 1e-6:\n",
        "    print(y[var].varName, y[var].x)"
      ],
      "metadata": {
        "id": "xr12Oar4IIIv",
        "colab": {
          "base_uri": "https://localhost:8080/"
        },
        "outputId": "a18da986-ad80-4b8d-8a2b-f70d931c2bb5"
      },
      "execution_count": null,
      "outputs": [
        {
          "output_type": "stream",
          "name": "stdout",
          "text": [
            "y[MAC008,10] 1.0\n",
            "y[MAC008,11] 1.0\n",
            "y[MAC008,12] 1.0\n",
            "y[MAC008,13] 1.0\n",
            "y[MAC008,14] 1.0\n",
            "y[MAC008,15] 1.0\n",
            "y[MAC008,16] 1.0\n",
            "y[MAC008,17] 1.0\n",
            "y[MAC008,18] 1.0\n",
            "y[MAC008,19] 1.0\n",
            "y[MAC008,20] 1.0\n",
            "y[DCC062,9] 1.0\n",
            "y[DCC062,10] 1.0\n",
            "y[DCC062,11] 1.0\n",
            "y[DCC062,12] 1.0\n",
            "y[DCC062,13] 1.0\n",
            "y[DCC062,14] 1.0\n",
            "y[DCC062,15] 1.0\n",
            "y[DCC062,16] 1.0\n",
            "y[DCC062,17] 1.0\n",
            "y[DCC062,18] 1.0\n",
            "y[DCC062,19] 1.0\n",
            "y[DCC062,20] 1.0\n",
            "y[MAC035,9] 1.0\n",
            "y[MAC035,10] 1.0\n",
            "y[MAC035,11] 1.0\n",
            "y[MAC035,12] 1.0\n",
            "y[MAC035,13] 1.0\n",
            "y[MAC035,14] 1.0\n",
            "y[MAC035,15] 1.0\n",
            "y[MAC035,16] 1.0\n",
            "y[MAC035,17] 1.0\n",
            "y[MAC035,18] 1.0\n",
            "y[MAC035,19] 1.0\n",
            "y[MAC035,20] 1.0\n",
            "y[MAC021,9] 1.0\n",
            "y[MAC021,10] 1.0\n",
            "y[MAC021,11] 1.0\n",
            "y[MAC021,12] 1.0\n",
            "y[MAC021,13] 1.0\n",
            "y[MAC021,14] 1.0\n",
            "y[MAC021,15] 1.0\n",
            "y[MAC021,16] 1.0\n",
            "y[MAC021,17] 1.0\n",
            "y[MAC021,18] 1.0\n",
            "y[MAC021,19] 1.0\n",
            "y[MAC021,20] 1.0\n"
          ]
        }
      ]
    },
    {
      "cell_type": "markdown",
      "source": [
        "# **Visualização dos Resultados**"
      ],
      "metadata": {
        "id": "dXIAcvAhZ1Vg"
      }
    },
    {
      "cell_type": "code",
      "source": [
        "%pip install xlsxwriter"
      ],
      "metadata": {
        "id": "vabm9UICZ9Bf",
        "colab": {
          "base_uri": "https://localhost:8080/"
        },
        "outputId": "7ef288bf-f954-414b-bcf5-4b40299cea35"
      },
      "execution_count": null,
      "outputs": [
        {
          "output_type": "stream",
          "name": "stdout",
          "text": [
            "Looking in indexes: https://pypi.org/simple, https://us-python.pkg.dev/colab-wheels/public/simple/\n",
            "Collecting xlsxwriter\n",
            "  Downloading XlsxWriter-3.1.0-py3-none-any.whl (152 kB)\n",
            "\u001b[2K     \u001b[90m━━━━━━━━━━━━━━━━━━━━━━━━━━━━━━━━━━━━━━━\u001b[0m \u001b[32m152.7/152.7 kB\u001b[0m \u001b[31m9.8 MB/s\u001b[0m eta \u001b[36m0:00:00\u001b[0m\n",
            "\u001b[?25hInstalling collected packages: xlsxwriter\n",
            "Successfully installed xlsxwriter-3.1.0\n"
          ]
        }
      ]
    },
    {
      "cell_type": "code",
      "source": [
        "import xlsxwriter\n",
        "import string"
      ],
      "metadata": {
        "id": "_PGmFbIWtGQl"
      },
      "execution_count": null,
      "outputs": []
    },
    {
      "cell_type": "code",
      "source": [
        "def linha_period (j):\n",
        "  if j == jInicio:\n",
        "    return [1, 2]\n",
        "  if j == jInicio + 1:\n",
        "    return [3, 4]\n",
        "  if j == jInicio + 2:\n",
        "    return [5, 6]\n",
        "  if j == jInicio + 3:\n",
        "    return [7, 8]\n",
        "  if j == jInicio + 4:\n",
        "    return [9, 10]\n",
        "  if j == jInicio + 5:\n",
        "    return [11, 12]\n",
        "  if j == jInicio + 6:\n",
        "    return [13, 14]\n",
        "  if j == jInicio + 7:\n",
        "    return [15, 16]\n",
        "  if j == jInicio + 8:\n",
        "    return [17, 18]\n",
        "  if j == jInicio + 9:\n",
        "    return [19, 20]\n",
        "  if j == jInicio + 10:\n",
        "    return [21, 22]\n",
        "  if j == jInicio + 11:\n",
        "    return [23, 24]\n",
        "  if j == jInicio + 12:\n",
        "    return [25, 26]\n",
        "  if j == jInicio + 13:\n",
        "    return [27, 28]\n",
        "  if j == jInicio + 14:\n",
        "    return [29, 30]\n",
        "  if j == jInicio + 15:\n",
        "    return [31, 32]\n",
        "  if j == jInicio + 16:\n",
        "    return [33, 34]\n",
        "  if j == jInicio + 17:\n",
        "    return [35, 36]\n",
        "  if j == jInicio + 18:\n",
        "    return [37, 38]\n",
        "  if j == jInicio + 19:\n",
        "    return [39, 40]"
      ],
      "metadata": {
        "id": "6XVXfbKGdw_u"
      },
      "execution_count": null,
      "outputs": []
    },
    {
      "cell_type": "code",
      "source": [
        "workbook = xlsxwriter.Workbook('PO - Trabalho 2.xlsx')\n",
        "worksheet = workbook.add_worksheet('Visualização')\n",
        "format = workbook.add_format({'align':'center','valign':'vcenter', 'border':1, 'bg_color': '#B0C4DE'})\n",
        "format1 = workbook.add_format({'align':'center','valign':'vcenter', 'border':1, 'bg_color': '#f2f2f2'})\n",
        "\n",
        "worksheet.hide_gridlines(2)\n",
        "\n",
        "for j, qtdd_disc in qtdd_var_period.items():\n",
        "  linhas = linha_period(j)\n",
        "  worksheet.merge_range('A' + str(linhas[0]) + ':B' + str(linhas[1]), str(j) + 'º' + ' Período', format)\n",
        "  colunas = list(string.ascii_uppercase[2: (2 + qtdd_disc * 2)])\n",
        "  coluna = 0\n",
        "  for i in var_period.get(j):\n",
        "    worksheet.merge_range(colunas[coluna] + str(linhas[0]) + ':' + colunas[coluna + 1] + str(linhas[1]), i, format1)\n",
        "    coluna += 2\n",
        "\n",
        "workbook.close()"
      ],
      "metadata": {
        "id": "Vd06EEtXtIhH"
      },
      "execution_count": null,
      "outputs": []
    },
    {
      "cell_type": "code",
      "source": [
        "m.dispose()\n",
        "en.dispose()"
      ],
      "metadata": {
        "id": "eF_Num5CYk3q"
      },
      "execution_count": null,
      "outputs": []
    },
    {
      "cell_type": "markdown",
      "source": [
        "# **Referências**"
      ],
      "metadata": {
        "id": "10sH2390TyEQ"
      }
    },
    {
      "cell_type": "markdown",
      "source": [
        "https://colab.research.google.com/notebooks/io.ipynb#scrollTo=ASdgLIt2s-ux"
      ],
      "metadata": {
        "id": "VcS3UjeTT26-"
      }
    },
    {
      "cell_type": "markdown",
      "source": [
        "https://support.gurobi.com/hc/en-us/articles/4409582394769-Google-Colab-Installation-and-Licensing"
      ],
      "metadata": {
        "id": "guPCFKrPT2xF"
      }
    },
    {
      "cell_type": "markdown",
      "source": [
        "https://acervolima.com/como-converter-a-coluna-dataframe-em-um-indice-no-python-pandas/"
      ],
      "metadata": {
        "id": "8jkAh6aqmcuV"
      }
    },
    {
      "cell_type": "markdown",
      "source": [
        "https://www.gurobi.com/"
      ],
      "metadata": {
        "id": "1Sw0oUhx-5tc"
      }
    }
  ]
}